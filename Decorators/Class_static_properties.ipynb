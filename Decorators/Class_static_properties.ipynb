{
  "cells": [
    {
      "cell_type": "markdown",
      "source": [
        "## Decorators - @staticmethod, @classmethod, @property\n",
        "[Source](https://lynn-kwong.medium.com/how-to-use-the-magical-staticmethod-classmethod-and-property-decorators-in-python-e42dd74e51e7)"
      ],
      "metadata": {
        "nteract": {
          "transient": {
            "deleting": false
          }
        }
      }
    },
    {
      "cell_type": "code",
      "source": [
        "class Cellphone:\n",
        "    def __init__(self, brand, number):\n",
        "        self.brand = brand\n",
        "        self.number = number\n",
        "        \n",
        "    def get_number(self):\n",
        "        return self.number\n",
        "      \n",
        "    @staticmethod\n",
        "    def get_emergency_number():\n",
        "        return \"911\"\n",
        "      \n",
        "Cellphone.get_emergency_number()\n",
        "# '911'"
      ],
      "outputs": [
        {
          "output_type": "execute_result",
          "execution_count": 1,
          "data": {
            "text/plain": "'911'"
          },
          "metadata": {}
        }
      ],
      "execution_count": 1,
      "metadata": {
        "collapsed": true,
        "jupyter": {
          "source_hidden": false,
          "outputs_hidden": false
        },
        "nteract": {
          "transient": {
            "deleting": false
          }
        },
        "execution": {
          "iopub.status.busy": "2022-03-24T03:34:25.715Z",
          "iopub.execute_input": "2022-03-24T03:34:25.721Z",
          "iopub.status.idle": "2022-03-24T03:34:25.741Z",
          "shell.execute_reply": "2022-03-24T03:34:25.750Z"
        }
      }
    },
    {
      "cell_type": "markdown",
      "source": [],
      "metadata": {
        "nteract": {
          "transient": {
            "deleting": false
          }
        }
      }
    },
    {
      "cell_type": "markdown",
      "source": [
        "###  @classmethod basic"
      ],
      "metadata": {
        "nteract": {
          "transient": {
            "deleting": false
          }
        }
      }
    },
    {
      "cell_type": "code",
      "source": [
        "class Cellphone:\n",
        "    def __init__(self, brand, number):\n",
        "        self.brand = brand\n",
        "        self.number = number\n",
        "        \n",
        "    def get_number(self):\n",
        "        return self.number\n",
        "      \n",
        "    @staticmethod\n",
        "    def get_emergency_number():\n",
        "        return \"911\"\n",
        "      \n",
        "    @classmethod\n",
        "    def iphone(cls, number):\n",
        "        _iphone = cls(\"Apple\", number)\n",
        "        print(\"An iPhone is created.\")\n",
        "        return _iphone\n",
        "     \n",
        "iphone = Cellphone.iphone(\"1112223333\")\n",
        "# An iPhone is created.\n",
        "print(iphone.get_number())\n",
        "# \"1112223333\"\n",
        "print(iphone.get_emergency_number())\n",
        "# \"911\n",
        "\n",
        "android = Cellphone.iphone(\"2139991111\")\n",
        "print(android.get_number())\n",
        "print(android.get_emergency_number())"
      ],
      "outputs": [
        {
          "output_type": "stream",
          "name": "stdout",
          "text": [
            "An iPhone is created.\n",
            "1112223333\n",
            "911\n",
            "An iPhone is created.\n",
            "2139991111\n",
            "911\n"
          ]
        }
      ],
      "execution_count": 11,
      "metadata": {
        "collapsed": true,
        "jupyter": {
          "source_hidden": false,
          "outputs_hidden": false
        },
        "nteract": {
          "transient": {
            "deleting": false
          }
        },
        "execution": {
          "iopub.status.busy": "2022-03-24T03:41:51.184Z",
          "iopub.execute_input": "2022-03-24T03:41:51.188Z",
          "iopub.status.idle": "2022-03-24T03:41:51.196Z",
          "shell.execute_reply": "2022-03-24T03:41:51.204Z"
        }
      }
    },
    {
      "cell_type": "markdown",
      "source": [
        "### @classmethod - example\n",
        "crawler\n",
        "\n",
        "- [GH -Scrapy with @classmethod full](https://github.com/scrapy/scrapy/blob/06f3d12c1208c380f9f1a16cb36ba2dfa3c244c5/scrapy/spiders/crawl.py#L135-L139)"
      ],
      "metadata": {
        "nteract": {
          "transient": {
            "deleting": false
          }
        }
      }
    },
    {
      "cell_type": "code",
      "source": [
        "class CrawlSpider(Spider):\n",
        "    rules: Sequence[Rule] = ()\n",
        "    \n",
        "\n",
        "    @classmethod\n",
        "    def from_crawler(cls, crawler, *args, **kwargs):\n",
        "        spider = super().from_crawler(crawler, *args, **kwargs)\n",
        "        spider._follow_links = crawler.settings.getbool(\n",
        "            'CRAWLSPIDER_FOLLOW_LINKS', True)\n",
        "        return spider"
      ],
      "outputs": [
        {
          "output_type": "error",
          "ename": "NameError",
          "evalue": "name 'Spider' is not defined",
          "traceback": [
            "\u001b[0;31m---------------------------------------------------------------------------\u001b[0m",
            "\u001b[0;31mNameError\u001b[0m                                 Traceback (most recent call last)",
            "Input \u001b[0;32mIn [16]\u001b[0m, in \u001b[0;36m<module>\u001b[0;34m\u001b[0m\n\u001b[0;32m----> 1\u001b[0m \u001b[38;5;28;01mclass\u001b[39;00m \u001b[38;5;21;01mCrawlSpider\u001b[39;00m(\u001b[43mSpider\u001b[49m):\n\u001b[1;32m      2\u001b[0m     rules: Sequence[Rule] \u001b[38;5;241m=\u001b[39m ()\n\u001b[1;32m      5\u001b[0m     \u001b[38;5;129m@classmethod\u001b[39m\n\u001b[1;32m      6\u001b[0m     \u001b[38;5;28;01mdef\u001b[39;00m \u001b[38;5;21mfrom_crawler\u001b[39m(\u001b[38;5;28mcls\u001b[39m, crawler, \u001b[38;5;241m*\u001b[39margs, \u001b[38;5;241m*\u001b[39m\u001b[38;5;241m*\u001b[39mkwargs):\n",
            "\u001b[0;31mNameError\u001b[0m: name 'Spider' is not defined"
          ]
        }
      ],
      "execution_count": 16,
      "metadata": {
        "collapsed": true,
        "jupyter": {
          "source_hidden": false,
          "outputs_hidden": false
        },
        "nteract": {
          "transient": {
            "deleting": false
          }
        },
        "execution": {
          "iopub.status.busy": "2022-03-24T03:45:41.946Z",
          "iopub.execute_input": "2022-03-24T03:45:41.950Z"
        }
      }
    },
    {
      "cell_type": "code",
      "source": [
        "-----\n",
        "### @property method"
      ],
      "outputs": [],
      "execution_count": null,
      "metadata": {
        "collapsed": true,
        "jupyter": {
          "source_hidden": false,
          "outputs_hidden": false
        },
        "nteract": {
          "transient": {
            "deleting": false
          }
        },
        "execution": {
          "iopub.status.busy": "2022-03-24T03:48:11.714Z",
          "iopub.execute_input": "2022-03-24T03:48:11.717Z"
        }
      }
    },
    {
      "cell_type": "code",
      "source": [
        "class Cellphone:\n",
        "    def __init__(self, brand, number):\n",
        "        self.brand = brand\n",
        "        self.number = number\n",
        "        \n",
        "    def get_number(self):\n",
        "        _number = \"-\".join([self.number[:3], self.number[3:6], self.number[6:]])\n",
        "        return _number\n",
        "      \n",
        "cellphone = Cellphone(\"Samsung\", \"1112223333\")\n",
        "print(cellphone.get_number())\n",
        "# 111-222-3333"
      ],
      "outputs": [
        {
          "output_type": "stream",
          "name": "stdout",
          "text": [
            "111-222-3333\n"
          ]
        }
      ],
      "execution_count": 19,
      "metadata": {
        "collapsed": true,
        "jupyter": {
          "source_hidden": false,
          "outputs_hidden": false
        },
        "nteract": {
          "transient": {
            "deleting": false
          }
        },
        "execution": {
          "iopub.status.busy": "2022-03-24T03:57:18.971Z",
          "iopub.execute_input": "2022-03-24T03:57:18.979Z",
          "iopub.status.idle": "2022-03-24T03:57:18.995Z",
          "shell.execute_reply": "2022-03-24T03:57:18.999Z"
        }
      }
    },
    {
      "cell_type": "code",
      "source": [
        "class CellPhone:\n",
        "    def __init__(self, brand, number):\n",
        "        self.brand = brand\n",
        "        self.number = number\n",
        "        \n",
        "    @property\n",
        "    def number(self):\n",
        "        _number = \"-\".join([self.number[:3], self.number[3:6], self.number[6:]])\n",
        "        return _number\n",
        "      \n",
        "cell_phone = CellPhone(\"Samsung\", \"1112223333\")\n",
        "# AttributeError: can't set attribute"
      ],
      "outputs": [
        {
          "output_type": "error",
          "ename": "AttributeError",
          "evalue": "can't set attribute",
          "traceback": [
            "\u001b[0;31m---------------------------------------------------------------------------\u001b[0m",
            "\u001b[0;31mAttributeError\u001b[0m                            Traceback (most recent call last)",
            "Input \u001b[0;32mIn [21]\u001b[0m, in \u001b[0;36m<module>\u001b[0;34m\u001b[0m\n\u001b[1;32m      8\u001b[0m         _number \u001b[38;5;241m=\u001b[39m \u001b[38;5;124m\"\u001b[39m\u001b[38;5;124m-\u001b[39m\u001b[38;5;124m\"\u001b[39m\u001b[38;5;241m.\u001b[39mjoin([\u001b[38;5;28mself\u001b[39m\u001b[38;5;241m.\u001b[39mnumber[:\u001b[38;5;241m3\u001b[39m], \u001b[38;5;28mself\u001b[39m\u001b[38;5;241m.\u001b[39mnumber[\u001b[38;5;241m3\u001b[39m:\u001b[38;5;241m6\u001b[39m], \u001b[38;5;28mself\u001b[39m\u001b[38;5;241m.\u001b[39mnumber[\u001b[38;5;241m6\u001b[39m:]])\n\u001b[1;32m      9\u001b[0m         \u001b[38;5;28;01mreturn\u001b[39;00m _number\n\u001b[0;32m---> 11\u001b[0m cell_phone \u001b[38;5;241m=\u001b[39m \u001b[43mCellPhone\u001b[49m\u001b[43m(\u001b[49m\u001b[38;5;124;43m\"\u001b[39;49m\u001b[38;5;124;43mSamsung\u001b[39;49m\u001b[38;5;124;43m\"\u001b[39;49m\u001b[43m,\u001b[49m\u001b[43m \u001b[49m\u001b[38;5;124;43m\"\u001b[39;49m\u001b[38;5;124;43m1112223333\u001b[39;49m\u001b[38;5;124;43m\"\u001b[39;49m\u001b[43m)\u001b[49m\n",
            "Input \u001b[0;32mIn [21]\u001b[0m, in \u001b[0;36mCellPhone.__init__\u001b[0;34m(self, brand, number)\u001b[0m\n\u001b[1;32m      2\u001b[0m \u001b[38;5;28;01mdef\u001b[39;00m \u001b[38;5;21m__init__\u001b[39m(\u001b[38;5;28mself\u001b[39m, brand, number):\n\u001b[1;32m      3\u001b[0m     \u001b[38;5;28mself\u001b[39m\u001b[38;5;241m.\u001b[39mbrand \u001b[38;5;241m=\u001b[39m brand\n\u001b[0;32m----> 4\u001b[0m     \u001b[38;5;28mself\u001b[39m\u001b[38;5;241m.\u001b[39mnumber \u001b[38;5;241m=\u001b[39m number\n",
            "\u001b[0;31mAttributeError\u001b[0m: can't set attribute"
          ]
        }
      ],
      "execution_count": 21,
      "metadata": {
        "collapsed": true,
        "jupyter": {
          "source_hidden": false,
          "outputs_hidden": false
        },
        "nteract": {
          "transient": {
            "deleting": false
          }
        },
        "execution": {
          "iopub.status.busy": "2022-03-24T04:07:49.165Z",
          "iopub.execute_input": "2022-03-24T04:07:49.170Z"
        }
      }
    },
    {
      "cell_type": "code",
      "source": [
        "# SETTER \n",
        "\n",
        "class Cellphone:\n",
        "    def __init__(self, brand, number):\n",
        "        self.brand = brand\n",
        "        self.number = number\n",
        "        \n",
        "    @property\n",
        "    def number(self):\n",
        "        # For better formatting in Medium\n",
        "        _number = \"-\".join([self.number[:3], self.number[3:6], self.number[6:]])\n",
        "        return _number\n",
        "        \n",
        "    @number.setter\n",
        "    def number(self, number):\n",
        "        if len(number) != 10:\n",
        "            raise ValueError(\"Invalid phone number.\")\n",
        "        self.number = number\n",
        "        \n",
        "cellphone = Cellphone(\"Samsung\", \"1112223333\")\n",
        "print(cellphone.number)\n",
        "# RecursionError: maximum recursion depth exceeded while calling a Python object"
      ],
      "outputs": [
        {
          "output_type": "error",
          "ename": "RecursionError",
          "evalue": "maximum recursion depth exceeded while calling a Python object",
          "traceback": [
            "\u001b[0;31m---------------------------------------------------------------------------\u001b[0m",
            "\u001b[0;31mRecursionError\u001b[0m                            Traceback (most recent call last)",
            "Input \u001b[0;32mIn [20]\u001b[0m, in \u001b[0;36m<module>\u001b[0;34m\u001b[0m\n\u001b[1;32m     15\u001b[0m             \u001b[38;5;28;01mraise\u001b[39;00m \u001b[38;5;167;01mValueError\u001b[39;00m(\u001b[38;5;124m\"\u001b[39m\u001b[38;5;124mInvalid phone number.\u001b[39m\u001b[38;5;124m\"\u001b[39m)\n\u001b[1;32m     16\u001b[0m         \u001b[38;5;28mself\u001b[39m\u001b[38;5;241m.\u001b[39mnumber \u001b[38;5;241m=\u001b[39m number\n\u001b[0;32m---> 18\u001b[0m cellphone \u001b[38;5;241m=\u001b[39m \u001b[43mCellphone\u001b[49m\u001b[43m(\u001b[49m\u001b[38;5;124;43m\"\u001b[39;49m\u001b[38;5;124;43mSamsung\u001b[39;49m\u001b[38;5;124;43m\"\u001b[39;49m\u001b[43m,\u001b[49m\u001b[43m \u001b[49m\u001b[38;5;124;43m\"\u001b[39;49m\u001b[38;5;124;43m1112223333\u001b[39;49m\u001b[38;5;124;43m\"\u001b[39;49m\u001b[43m)\u001b[49m\n\u001b[1;32m     19\u001b[0m \u001b[38;5;28mprint\u001b[39m(cellphone\u001b[38;5;241m.\u001b[39mnumber)\n",
            "Input \u001b[0;32mIn [20]\u001b[0m, in \u001b[0;36mCellphone.__init__\u001b[0;34m(self, brand, number)\u001b[0m\n\u001b[1;32m      2\u001b[0m \u001b[38;5;28;01mdef\u001b[39;00m \u001b[38;5;21m__init__\u001b[39m(\u001b[38;5;28mself\u001b[39m, brand, number):\n\u001b[1;32m      3\u001b[0m     \u001b[38;5;28mself\u001b[39m\u001b[38;5;241m.\u001b[39mbrand \u001b[38;5;241m=\u001b[39m brand\n\u001b[0;32m----> 4\u001b[0m     \u001b[38;5;28mself\u001b[39m\u001b[38;5;241m.\u001b[39mnumber \u001b[38;5;241m=\u001b[39m number\n",
            "Input \u001b[0;32mIn [20]\u001b[0m, in \u001b[0;36mCellphone.number\u001b[0;34m(self, number)\u001b[0m\n\u001b[1;32m     14\u001b[0m \u001b[38;5;28;01mif\u001b[39;00m \u001b[38;5;28mlen\u001b[39m(number) \u001b[38;5;241m!=\u001b[39m \u001b[38;5;241m10\u001b[39m:\n\u001b[1;32m     15\u001b[0m     \u001b[38;5;28;01mraise\u001b[39;00m \u001b[38;5;167;01mValueError\u001b[39;00m(\u001b[38;5;124m\"\u001b[39m\u001b[38;5;124mInvalid phone number.\u001b[39m\u001b[38;5;124m\"\u001b[39m)\n\u001b[0;32m---> 16\u001b[0m \u001b[38;5;28mself\u001b[39m\u001b[38;5;241m.\u001b[39mnumber \u001b[38;5;241m=\u001b[39m number\n",
            "Input \u001b[0;32mIn [20]\u001b[0m, in \u001b[0;36mCellphone.number\u001b[0;34m(self, number)\u001b[0m\n\u001b[1;32m     14\u001b[0m \u001b[38;5;28;01mif\u001b[39;00m \u001b[38;5;28mlen\u001b[39m(number) \u001b[38;5;241m!=\u001b[39m \u001b[38;5;241m10\u001b[39m:\n\u001b[1;32m     15\u001b[0m     \u001b[38;5;28;01mraise\u001b[39;00m \u001b[38;5;167;01mValueError\u001b[39;00m(\u001b[38;5;124m\"\u001b[39m\u001b[38;5;124mInvalid phone number.\u001b[39m\u001b[38;5;124m\"\u001b[39m)\n\u001b[0;32m---> 16\u001b[0m \u001b[38;5;28mself\u001b[39m\u001b[38;5;241m.\u001b[39mnumber \u001b[38;5;241m=\u001b[39m number\n",
            "    \u001b[0;31m[... skipping similar frames: Cellphone.number at line 16 (2967 times)]\u001b[0m\n",
            "Input \u001b[0;32mIn [20]\u001b[0m, in \u001b[0;36mCellphone.number\u001b[0;34m(self, number)\u001b[0m\n\u001b[1;32m     14\u001b[0m \u001b[38;5;28;01mif\u001b[39;00m \u001b[38;5;28mlen\u001b[39m(number) \u001b[38;5;241m!=\u001b[39m \u001b[38;5;241m10\u001b[39m:\n\u001b[1;32m     15\u001b[0m     \u001b[38;5;28;01mraise\u001b[39;00m \u001b[38;5;167;01mValueError\u001b[39;00m(\u001b[38;5;124m\"\u001b[39m\u001b[38;5;124mInvalid phone number.\u001b[39m\u001b[38;5;124m\"\u001b[39m)\n\u001b[0;32m---> 16\u001b[0m \u001b[38;5;28mself\u001b[39m\u001b[38;5;241m.\u001b[39mnumber \u001b[38;5;241m=\u001b[39m number\n",
            "Input \u001b[0;32mIn [20]\u001b[0m, in \u001b[0;36mCellphone.number\u001b[0;34m(self, number)\u001b[0m\n\u001b[1;32m     12\u001b[0m \u001b[38;5;129m@number\u001b[39m\u001b[38;5;241m.\u001b[39msetter\n\u001b[1;32m     13\u001b[0m \u001b[38;5;28;01mdef\u001b[39;00m \u001b[38;5;21mnumber\u001b[39m(\u001b[38;5;28mself\u001b[39m, number):\n\u001b[0;32m---> 14\u001b[0m     \u001b[38;5;28;01mif\u001b[39;00m \u001b[38;5;28;43mlen\u001b[39;49m\u001b[43m(\u001b[49m\u001b[43mnumber\u001b[49m\u001b[43m)\u001b[49m \u001b[38;5;241m!=\u001b[39m \u001b[38;5;241m10\u001b[39m:\n\u001b[1;32m     15\u001b[0m         \u001b[38;5;28;01mraise\u001b[39;00m \u001b[38;5;167;01mValueError\u001b[39;00m(\u001b[38;5;124m\"\u001b[39m\u001b[38;5;124mInvalid phone number.\u001b[39m\u001b[38;5;124m\"\u001b[39m)\n\u001b[1;32m     16\u001b[0m     \u001b[38;5;28mself\u001b[39m\u001b[38;5;241m.\u001b[39mnumber \u001b[38;5;241m=\u001b[39m number\n",
            "\u001b[0;31mRecursionError\u001b[0m: maximum recursion depth exceeded while calling a Python object"
          ]
        }
      ],
      "execution_count": 20,
      "metadata": {
        "collapsed": true,
        "jupyter": {
          "source_hidden": false,
          "outputs_hidden": false
        },
        "nteract": {
          "transient": {
            "deleting": false
          }
        },
        "execution": {
          "iopub.status.busy": "2022-03-24T03:58:47.754Z",
          "iopub.execute_input": "2022-03-24T03:58:47.778Z"
        }
      }
    },
    {
      "cell_type": "code",
      "source": [
        "class Cellphone:\n",
        "    def __init__(self, brand, number):\n",
        "        self.brand = brand\n",
        "        self.number = number\n",
        "        \n",
        "    @property\n",
        "    def number(self):\n",
        "        _number = \"-\".join([self._number[:3], self._number[3:6],self._number[6:]])\n",
        "        return _number\n",
        "    \n",
        "    @number.setter\n",
        "    def number(self, number):\n",
        "        if len(number) != 10:\n",
        "            raise ValueError(\"Invalid phone number.\")\n",
        "        self._number = number\n",
        "\n",
        "cellphone = Cellphone(\"Samsung\", \"1112223333\")\n",
        "print(cellphone.number)\n",
        "\n",
        "\n",
        "# 111-222-3333"
      ],
      "outputs": [
        {
          "output_type": "stream",
          "name": "stdout",
          "text": [
            "111-222-3333\n"
          ]
        },
        {
          "output_type": "error",
          "ename": "ValueError",
          "evalue": "Invalid phone number.",
          "traceback": [
            "\u001b[0;31m---------------------------------------------------------------------------\u001b[0m",
            "\u001b[0;31mValueError\u001b[0m                                Traceback (most recent call last)",
            "Input \u001b[0;32mIn [23]\u001b[0m, in \u001b[0;36m<module>\u001b[0;34m\u001b[0m\n\u001b[1;32m     17\u001b[0m cellphone \u001b[38;5;241m=\u001b[39m Cellphone(\u001b[38;5;124m\"\u001b[39m\u001b[38;5;124mSamsung\u001b[39m\u001b[38;5;124m\"\u001b[39m, \u001b[38;5;124m\"\u001b[39m\u001b[38;5;124m1112223333\u001b[39m\u001b[38;5;124m\"\u001b[39m)\n\u001b[1;32m     18\u001b[0m \u001b[38;5;28mprint\u001b[39m(cellphone\u001b[38;5;241m.\u001b[39mnumber)\n\u001b[0;32m---> 19\u001b[0m cellphone\u001b[38;5;241m.\u001b[39mnumber \u001b[38;5;241m=\u001b[39m \u001b[38;5;124m\"\u001b[39m\u001b[38;5;124m123\u001b[39m\u001b[38;5;124m\"\u001b[39m\n",
            "Input \u001b[0;32mIn [23]\u001b[0m, in \u001b[0;36mCellphone.number\u001b[0;34m(self, number)\u001b[0m\n\u001b[1;32m     11\u001b[0m \u001b[38;5;129m@number\u001b[39m\u001b[38;5;241m.\u001b[39msetter\n\u001b[1;32m     12\u001b[0m \u001b[38;5;28;01mdef\u001b[39;00m \u001b[38;5;21mnumber\u001b[39m(\u001b[38;5;28mself\u001b[39m, number):\n\u001b[1;32m     13\u001b[0m     \u001b[38;5;28;01mif\u001b[39;00m \u001b[38;5;28mlen\u001b[39m(number) \u001b[38;5;241m!=\u001b[39m \u001b[38;5;241m10\u001b[39m:\n\u001b[0;32m---> 14\u001b[0m         \u001b[38;5;28;01mraise\u001b[39;00m \u001b[38;5;167;01mValueError\u001b[39;00m(\u001b[38;5;124m\"\u001b[39m\u001b[38;5;124mInvalid phone number.\u001b[39m\u001b[38;5;124m\"\u001b[39m)\n\u001b[1;32m     15\u001b[0m     \u001b[38;5;28mself\u001b[39m\u001b[38;5;241m.\u001b[39m_number \u001b[38;5;241m=\u001b[39m number\n",
            "\u001b[0;31mValueError\u001b[0m: Invalid phone number."
          ]
        }
      ],
      "execution_count": 23,
      "metadata": {
        "collapsed": true,
        "jupyter": {
          "source_hidden": false,
          "outputs_hidden": false
        },
        "nteract": {
          "transient": {
            "deleting": false
          }
        },
        "execution": {
          "iopub.status.busy": "2022-03-24T04:10:53.770Z",
          "iopub.execute_input": "2022-03-24T04:10:53.782Z",
          "iopub.status.idle": "2022-03-24T04:10:32.807Z",
          "shell.execute_reply": "2022-03-24T04:10:32.813Z"
        }
      }
    },
    {
      "cell_type": "code",
      "source": [],
      "outputs": [],
      "execution_count": null,
      "metadata": {
        "collapsed": true,
        "jupyter": {
          "source_hidden": false,
          "outputs_hidden": false
        },
        "nteract": {
          "transient": {
            "deleting": false
          }
        }
      }
    }
  ],
  "metadata": {
    "kernel_info": {
      "name": "node_nteract"
    },
    "language_info": {
      "name": "python",
      "version": "3.9.10",
      "mimetype": "text/x-python",
      "codemirror_mode": {
        "name": "ipython",
        "version": 3
      },
      "pygments_lexer": "ipython3",
      "nbconvert_exporter": "python",
      "file_extension": ".py"
    },
    "kernelspec": {
      "argv": [
        "/Applications/nteract.app/Contents/MacOS/nteract",
        "/Applications/nteract.app/Contents/Resources/app.asar/node_modules/ijavascript/lib/kernel.js",
        "{connection_file}",
        "--protocol=5.0",
        "--hide-undefined"
      ],
      "display_name": "Node.js (nteract)",
      "env": {
        "ELECTRON_RUN_AS_NODE": "1",
        "NODE_PATH": "/Applications/nteract.app/Contents/Resources/app.asar/node_modules"
      },
      "language": "javascript",
      "name": "node_nteract"
    },
    "nteract": {
      "version": "0.28.0"
    }
  },
  "nbformat": 4,
  "nbformat_minor": 0
}