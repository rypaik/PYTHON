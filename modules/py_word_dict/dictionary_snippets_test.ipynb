{
 "cells": [
  {
   "cell_type": "code",
   "execution_count": 26,
   "metadata": {},
   "outputs": [],
   "source": [
    "from pprint import pprint\n",
    "mydict = {'Adjective': ['ludicrous, foolish', 'like a clown'], 'Noun': ['a buffoon in one of the old comedies; imitates others for ludicrous', 'effect',\n",
    "          'a man who is a stupid incompetent fool']}\n"
   ]
  },
  {
   "cell_type": "code",
   "execution_count": 27,
   "metadata": {},
   "outputs": [
    {
     "name": "stdout",
     "output_type": "stream",
     "text": [
      "{'Adjective': ['ludicrous, foolish', 'like a clown'],\n",
      " 'Noun': ['a buffoon in one of the old comedies; imitates others for ludicrous',\n",
      "          'effect',\n",
      "          'a man who is a stupid incompetent fool']}\n",
      "Adjective is a key for my dict\n",
      "<class 'str'> is the type for these keys\n",
      "Noun is a key for my dict\n",
      "<class 'str'> is the type for these keys\n",
      "Adjective\n",
      "Noun\n"
     ]
    }
   ],
   "source": [
    "\n",
    "# -------------------------------------- #\n",
    "# USING DICTS \n",
    "# GETTING VALUES\n",
    "\n",
    "pprint(mydict)\n",
    "\n",
    "# PRINT ALL KEYS\n",
    "for x in mydict:\n",
    "    print(f\"{x} is a key for my dict\")\n",
    "    print(f\"{type(x)} is the type for these keys\")\n",
    "    \n",
    "for x in mydict.keys():\n",
    "\tprint(x)\n"
   ]
  },
  {
   "cell_type": "code",
   "execution_count": null,
   "metadata": {},
   "outputs": [],
   "source": []
  },
  {
   "cell_type": "code",
   "execution_count": 36,
   "metadata": {},
   "outputs": [
    {
     "name": "stdout",
     "output_type": "stream",
     "text": [
      "Adjective is the key / ludicrous, foolish is the value\n",
      "['Adjective', 'ludicrous, foolish']\n",
      "Noun is the key / a buffoon in one of the old comedies; imitates others for ludicrous is the value\n",
      "['Adjective', 'ludicrous, foolish', 'Noun', 'a buffoon in one of the old comedies; imitates others for ludicrous']\n"
     ]
    }
   ],
   "source": [
    "\n",
    "# PRINT ALL VALUES\n",
    "# for x in mydict:\n",
    "\t# print(f\"{mydict[x]} is a value from the dictionary\") \n",
    "\t# print(f\"{type(mydict[x])} is the value type: SHOULD BE A LIST\")\n",
    "\n",
    "# for x in mydict.values():\n",
    "\t# print(x)\n",
    "\t# print(type(x))\n",
    "import csv\n",
    "from itertools import chain\n",
    "\n",
    "# ----- #\n",
    "# BOTH KEYS AND VALUES .items()\n",
    "full_list = []\n",
    "for x, y in mydict.items():\n",
    "\tprint(f\"{x} is the key / {y[0]} is the value\")\n",
    "\t\n",
    "\tfull_list.append(x)\n",
    "\tfull_list.append(y[0])\n",
    "\n",
    "\t\n",
    "\tprint(full_list) \n",
    " \n",
    " \t# list_keys = list(x)\n",
    " \n",
    "\t# full_list.append(y.pop())\n",
    "\t# full_list.append(y)\n",
    " \n",
    "\t# print(full_list)\n",
    " \n",
    "#  list of word\n",
    "#  append to list\n",
    "#  list of part of speech\n",
    "#  append to list\n",
    "# dict for definition.. .. append"
   ]
  },
  {
   "cell_type": "code",
   "execution_count": null,
   "metadata": {},
   "outputs": [],
   "source": []
  }
 ],
 "metadata": {
  "interpreter": {
   "hash": "f71f91770704e34e2e43aeaec7ee0975d45c0d3e218552226264023f8c3576c3"
  },
  "kernelspec": {
   "display_name": "Python 3.9.10 ('py_word_dict-0RgtTIco')",
   "language": "python",
   "name": "python3"
  },
  "language_info": {
   "codemirror_mode": {
    "name": "ipython",
    "version": 3
   },
   "file_extension": ".py",
   "mimetype": "text/x-python",
   "name": "python",
   "nbconvert_exporter": "python",
   "pygments_lexer": "ipython3",
   "version": "3.9.10"
  },
  "orig_nbformat": 4
 },
 "nbformat": 4,
 "nbformat_minor": 2
}
