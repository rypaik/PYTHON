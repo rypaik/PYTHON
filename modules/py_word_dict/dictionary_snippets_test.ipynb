{
 "cells": [
  {
   "cell_type": "code",
   "execution_count": 27,
   "metadata": {},
   "outputs": [],
   "source": [
    "from pprint import pprint\n",
    "mydict = {'Adjective': ['ludicrous, foolish', 'like a clown'], 'Noun': ['a buffoon in one of the old comedies; imitates others for ludicrous', 'effect',\n",
    "          'a man who is a stupid incompetent fool']}\n"
   ]
  },
  {
   "cell_type": "code",
   "execution_count": 28,
   "metadata": {},
   "outputs": [
    {
     "name": "stdout",
     "output_type": "stream",
     "text": [
      "{'Adjective': ['ludicrous, foolish', 'like a clown'],\n",
      " 'Noun': ['a buffoon in one of the old comedies; imitates others for ludicrous',\n",
      "          'effect',\n",
      "          'a man who is a stupid incompetent fool']}\n",
      "Adjective is a key for my dict\n",
      "<class 'str'> is the type for these keys\n",
      "Noun is a key for my dict\n",
      "<class 'str'> is the type for these keys\n",
      "Adjective\n",
      "Noun\n"
     ]
    }
   ],
   "source": [
    "\n",
    "# -------------------------------------- #\n",
    "# USING DICTS \n",
    "# GETTING VALUES\n",
    "\n",
    "pprint(mydict)\n",
    "\n",
    "# PRINT ALL KEYS\n",
    "for x in mydict:\n",
    "    print(f\"{x} is a key for my dict\")\n",
    "    print(f\"{type(x)} is the type for these keys\")\n",
    "    \n",
    "for x in mydict.keys():\n",
    "\tprint(x)\n"
   ]
  },
  {
   "cell_type": "code",
   "execution_count": 34,
   "metadata": {},
   "outputs": [
    {
     "name": "stdout",
     "output_type": "stream",
     "text": [
      "['ludicrous, foolish', 'like a clown'] is a value from the dictionary\n",
      "<class 'list'> is the value type: SHOULD BE A LIST\n",
      "['a buffoon in one of the old comedies; imitates others for ludicrous', 'effect', 'a man who is a stupid incompetent fool'] is a value from the dictionary\n",
      "<class 'list'> is the value type: SHOULD BE A LIST\n",
      "['ludicrous, foolish', 'like a clown']\n",
      "<class 'list'>\n",
      "['a buffoon in one of the old comedies; imitates others for ludicrous', 'effect', 'a man who is a stupid incompetent fool']\n",
      "<class 'list'>\n",
      "Adjective ['ludicrous, foolish', 'like a clown']\n",
      "Noun ['a buffoon in one of the old comedies; imitates others for ludicrous', 'effect', 'a man who is a stupid incompetent fool']\n"
     ]
    }
   ],
   "source": [
    "\n",
    "# PRINT ALL VALUES\n",
    "for x in mydict:\n",
    "\tprint(f\"{mydict[x]} is a value from the dictionary\") \n",
    "\tprint(f\"{type(mydict[x])} is the value type: SHOULD BE A LIST\")\n",
    "\n",
    "for x in mydict.values():\n",
    "\tprint(x)\n",
    "\tprint(type(x))\n",
    "\n",
    "\n",
    "# ----- #\n",
    "# BOTH KEYS AND VALUES .items()\n",
    "for x, y in mydict.items():\n",
    "\tprint(x,y)\n"
   ]
  },
  {
   "cell_type": "code",
   "execution_count": null,
   "metadata": {},
   "outputs": [],
   "source": []
  }
 ],
 "metadata": {
  "interpreter": {
   "hash": "f71f91770704e34e2e43aeaec7ee0975d45c0d3e218552226264023f8c3576c3"
  },
  "kernelspec": {
   "display_name": "Python 3.9.10 ('py_word_dict-0RgtTIco')",
   "language": "python",
   "name": "python3"
  },
  "language_info": {
   "codemirror_mode": {
    "name": "ipython",
    "version": 3
   },
   "file_extension": ".py",
   "mimetype": "text/x-python",
   "name": "python",
   "nbconvert_exporter": "python",
   "pygments_lexer": "ipython3",
   "version": "3.9.10"
  },
  "orig_nbformat": 4
 },
 "nbformat": 4,
 "nbformat_minor": 2
}
