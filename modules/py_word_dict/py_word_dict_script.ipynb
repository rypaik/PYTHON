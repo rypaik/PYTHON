{
 "cells": [
  {
   "cell_type": "code",
   "execution_count": 1,
   "metadata": {},
   "outputs": [
    {
     "data": {
      "text/plain": [
       "\"\\npyDictionary returns\\n{\\n   'part of speech 1': [list of 1st definion], \\n   'part of speech 2':[list of 2nd definition], ...\\n}\\n\""
      ]
     },
     "execution_count": 1,
     "metadata": {},
     "output_type": "execute_result"
    }
   ],
   "source": [
    "from pprint import pprint\n",
    "from PyDictionary import PyDictionary\n",
    "dictionary=PyDictionary()\n",
    "\n",
    "\n",
    "#TODO: REDO Docstring\n",
    "\"\"\"\n",
    "pyDictionary returns\n",
    "{\n",
    "   'part of speech 1': [list of 1st definion], \n",
    "   'part of speech 2':[list of 2nd definition], ...\n",
    "}\n",
    "\"\"\""
   ]
  },
  {
   "cell_type": "code",
   "execution_count": 2,
   "metadata": {},
   "outputs": [
    {
     "name": "stdout",
     "output_type": "stream",
     "text": [
      "{'Adjective': ['ludicrous, foolish', 'like a clown'],\n",
      " 'Noun': ['a buffoon in one of the old comedies; imitates others for ludicrous '\n",
      "          'effect',\n",
      "          'a man who is a stupid incompetent fool']}\n",
      "{'Noun': ['the arrangement of the body and its limbs',\n",
      "          \"characteristic way of bearing one's body\",\n",
      "          'a rationalized mental attitude',\n",
      "          'capability in terms of personnel and materiel that affect the '\n",
      "          'capacity to fight a war'],\n",
      " 'Verb': ['behave affectedly or unnaturally in order to impress others',\n",
      "          'assume a posture as for artistic purposes']}\n"
     ]
    }
   ],
   "source": [
    "# Sample Calls to look at package return resutls\n",
    "pprint (dictionary.meaning(\"zany\"))\n",
    "\n",
    "# throws error for having hyphen\n",
    "# pprint(dictionary.meaning(\"Well-Behaved\"))\n",
    "\n",
    "\n",
    "# Testing a Fail\n",
    "pprint (dictionary.meaning(\"posture\"))\n"
   ]
  },
  {
   "cell_type": "code",
   "execution_count": 5,
   "metadata": {},
   "outputs": [
    {
     "name": "stdout",
     "output_type": "stream",
     "text": [
      "Accessible\n",
      "dict_values([['capable of being reached', 'capable of being read with comprehension', 'easily obtained', 'easy to get along with or talk to; friendly']])\n",
      "Accommodation\n",
      "dict_values([['making or becoming suitable; adjusting to circumstances', 'a settlement of differences', 'in the theories of Jean Piaget: the modification of internal representations in order to accommodate a changing knowledge of reality', 'living quarters provided for public convenience', 'the act of providing something (lodging or seat or food', '(physiology']])\n",
      "Addiction\n",
      "dict_values([['being abnormally tolerant to and dependent on something that is psychologically or physically habit-forming (especially alcohol or narcotic drugs', 'an abnormally strong craving', '(Roman law', 'as the award of a debtor to his creditor']])\n",
      "Admirable\n",
      "dict_values([['deserving of the highest esteem or admiration', 'inspiring admiration or approval']])\n",
      "Advertising\n",
      "Part of Speech is type: <class 'str'>; the value is Noun\n",
      "Part of Speech is type: <class 'str'>; the value is Verb\n",
      "Amazement\n",
      "dict_values([['the feeling that accompanies something extremely surprising']])\n",
      "Assassination\n",
      "dict_values([[\"an attack intended to ruin someone's reputation\", 'murder of a public figure by surprise attack']])\n",
      "Posture\n",
      "Part of Speech is type: <class 'str'>; the value is Noun\n",
      "Part of Speech is type: <class 'str'>; the value is Verb\n",
      "Pious\n",
      "dict_values([['having or showing or expressing reverence for a deity']])\n"
     ]
    }
   ],
   "source": [
    "import csv\n",
    "from itertools import chain\n",
    "\n",
    "definition_file = open('definition_clean2.csv', 'w')\n",
    "csv_writer = csv.writer(definition_file)\n",
    "# csv_writer.writerow(item)\n",
    " \n",
    "with open('vocab_test.csv', mode='r') as files:\n",
    "    csvFile = csv.reader(files) \n",
    "    line = files.readline().lstrip(\"\\ufeff\")\n",
    "    for line in csvFile:\n",
    "        \"\"\" \n",
    "        Loop through each word, search for word definition, \n",
    "        make a single list from the word and definition.\n",
    "        \"\"\"\n",
    "        word = line[0]\n",
    "        definition_dict = dictionary.meaning(word)\n",
    "        keys_count = len(definition_dict.keys())\n",
    "        print(word)\n",
    "        # print(type(keys_count))\n",
    "        # print(keys_count)\n",
    "        single_def = []\n",
    "        if keys_count >= 2:\n",
    "            for k, v in definition_dict.items():\n",
    "                temp_part_speech = k\n",
    "                print(f\"Part of Speech is type: {type(temp_part_speech)}; the value is {temp_part_speech}\")\n",
    "                temp_def = v\n",
    "                \n",
    "                single_def = list(word)+list(temp_part_speech)+temp_def\n",
    "                # single_def= list(chain(line, temp_part_speech, temp_def))\n",
    "                csv_writer.writerow(single_def)\n",
    "                \n",
    "                # temp_word = list(definition_dict.keys())\n",
    "                # temp_def = list(definition_dict.values())\n",
    "                # print(f\"{temp_word} + defintion is {temp_def}\")\n",
    "            # print(f\"{list(definition_dict.keys())[0]}\")\n",
    "            # print(f\"{list(definition_dict.keys())[1]}\")\n",
    "            # word_key = dictionary = list(definition_dict.keys(0))\n",
    "        # print(keys_count)\n",
    "        # print(type(definition))\n",
    "        else:\n",
    "            word_keys = list(definition_dict.keys())\n",
    "            word_define= definition_dict.values()\n",
    "            print(word_define)\n",
    "            \n",
    "            complete_list = list(chain(line, word_keys, word_define))\n",
    "            # print(complete_list)\n",
    "            csv_writer.writerow(complete_list)\n",
    "\n",
    "definition_file.close()"
   ]
  },
  {
   "cell_type": "code",
   "execution_count": null,
   "metadata": {},
   "outputs": [],
   "source": []
  }
 ],
 "metadata": {
  "interpreter": {
   "hash": "72d60d09b64881f2c0c6f1d8881eb9386fd70541011879cd64d1e1dc296af7ee"
  },
  "kernelspec": {
   "display_name": "Python 3.9.12 ('py_word_dict-2kh4G4JO')",
   "language": "python",
   "name": "python3"
  },
  "language_info": {
   "codemirror_mode": {
    "name": "ipython",
    "version": 3
   },
   "file_extension": ".py",
   "mimetype": "text/x-python",
   "name": "python",
   "nbconvert_exporter": "python",
   "pygments_lexer": "ipython3",
   "version": "3.9.12"
  },
  "nbformat": 4,
  "nbformat_minor": 2
}
