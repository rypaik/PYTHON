{
 "cells": [
  {
   "cell_type": "markdown",
   "metadata": {},
   "source": [
    "# String and List to Tuple"
   ]
  },
  {
   "cell_type": "code",
   "execution_count": 6,
   "metadata": {},
   "outputs": [
    {
     "name": "stdout",
     "output_type": "stream",
     "text": [
      "The original list : ['gfg', 'is']\n",
      "The original string : best\n",
      "the type of the res object is : <class 'tuple'>\n",
      "The aggregated tuple is : ('gfg', 'is', 'best')\n",
      " Res without str typcast by using f string: ('gfg', 'is', 'best')\n"
     ]
    }
   ],
   "source": [
    "# Python3 code to demonstrate working of\n",
    "# Construct tuple from string and list\n",
    "# using list conversion to tuple + tuple()\n",
    "\n",
    "# initialize list and string\n",
    "test_list = [\"gfg\", \"is\"]\n",
    "test_str = \"best\"\n",
    "\n",
    "# printing original list and tuple\n",
    "print(\"The original list : \" + str(test_list))\n",
    "print(\"The original string : \" + test_str)\n",
    "\n",
    "# Construct tuple from string and list\n",
    "# using list conversion to tuple + tuple()\n",
    "res = tuple(test_list + [test_str])\n",
    "print(f\"the type of the res object is : {type(res)}\")\n",
    "# printing result\n",
    "print(\"The aggregated tuple is : \" + str(res))\n",
    "print(f\" Res without str typcast by using f string: {res}\")"
   ]
  },
  {
   "cell_type": "code",
   "execution_count": 3,
   "metadata": {},
   "outputs": [
    {
     "name": "stdout",
     "output_type": "stream",
     "text": [
      "The original list : ['is', 'best']\n",
      "The original string : gfg\n",
      "The aggregated tuple is : ('gfg', 'is', 'best')\n"
     ]
    }
   ],
   "source": [
    "# Python3 code to demonstrate working of\n",
    "# Construct tuple from string and list\n",
    "# using tuple conversion to tuple + tuple()\n",
    "\n",
    "# initialize list and string\n",
    "test_list = [\"is\", \"best\"]\n",
    "test_str = \"gfg\"\n",
    "\n",
    "# printing original list and tuple\n",
    "print(\"The original list : \" + str(test_list))\n",
    "print(\"The original string : \" + test_str)\n",
    "\n",
    "# Construct tuple from string and list\n",
    "# using tuple conversion to tuple + tuple()\n",
    "res = (test_str, ) + tuple(test_list)\n",
    "\n",
    "# printing result\n",
    "print(\"The aggregated tuple is : \" + str(res))\n"
   ]
  },
  {
   "cell_type": "code",
   "execution_count": null,
   "metadata": {},
   "outputs": [],
   "source": []
  }
 ],
 "metadata": {
  "interpreter": {
   "hash": "8a5f349dc54852db14b5d7c101fc857dfd13e4a5cfbff2a2b0eafb1da6bfc812"
  },
  "kernelspec": {
   "display_name": "Python 3.9.10 ('nvim_jupyter-zKQutMRt')",
   "language": "python",
   "name": "python3"
  },
  "language_info": {
   "codemirror_mode": {
    "name": "ipython",
    "version": 3
   },
   "file_extension": ".py",
   "mimetype": "text/x-python",
   "name": "python",
   "nbconvert_exporter": "python",
   "pygments_lexer": "ipython3",
   "version": "3.9.10"
  },
  "orig_nbformat": 4
 },
 "nbformat": 4,
 "nbformat_minor": 2
}
