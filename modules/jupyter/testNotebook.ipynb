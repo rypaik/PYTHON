{
 "cells": [
  {
   "cell_type": "code",
   "execution_count": 14,
   "metadata": {},
   "outputs": [],
   "source": [
    "import pytest\n",
    "from testbook import testbook"
   ]
  },
  {
   "cell_type": "code",
   "execution_count": 15,
   "metadata": {},
   "outputs": [],
   "source": [
    "\n",
    "def double_array(a):\n",
    "    return [x*2 for x in a]"
   ]
  },
  {
   "cell_type": "code",
   "execution_count": 17,
   "metadata": {},
   "outputs": [
    {
     "name": "stdout",
     "output_type": "stream",
     "text": [
      "\u001b[1m============================= test session starts ==============================\u001b[0m\n",
      "platform darwin -- Python 3.9.13, pytest-7.1.2, pluggy-1.0.0\n",
      "rootdir: /Users/jb_mini/GITHUB/RYP_GITHUB/PYTHON/modules/jupyter\n",
      "collected 0 items                                                              \u001b[0m\n",
      "\n",
      "\u001b[33m============================ \u001b[33mno tests ran\u001b[0m\u001b[33m in 0.00s\u001b[0m\u001b[33m =============================\u001b[0m\n"
     ]
    }
   ],
   "source": [
    "# !pytest ../tests\n",
    "!pytest /Users/jb_mini/GITHUB/RYP_GITHUB/PYTHON/modules/jupyter/\n"
   ]
  },
  {
   "cell_type": "markdown",
   "metadata": {},
   "source": [
    "\n",
    "# Testing Jupyter Notebook Code with pytest\n",
    "[Testing Jupyter Notebook Code with pytest - Documentation](https://docs.next.tech/creator/how-tos/testing-techniques/testing-jupyter-notebook-code-with-pytest)\n",
    "\n",
    "https://stackoverflow.com/questions/41304311/running-pytest-test-functions-inside-a-jupyter-notebook\n"
   ]
  }
 ],
 "metadata": {
  "kernelspec": {
   "display_name": "Python 3.9.13 ('modules-TCpCo-g7')",
   "language": "python",
   "name": "python3"
  },
  "language_info": {
   "codemirror_mode": {
    "name": "ipython",
    "version": 3
   },
   "file_extension": ".py",
   "mimetype": "text/x-python",
   "name": "python",
   "nbconvert_exporter": "python",
   "pygments_lexer": "ipython3",
   "version": "3.9.13"
  },
  "orig_nbformat": 4,
  "vscode": {
   "interpreter": {
    "hash": "68a9f5afa7746e8c11086b33c8e6d9963cc4a06ad2bab8287843f40e572b8203"
   }
  }
 },
 "nbformat": 4,
 "nbformat_minor": 2
}
