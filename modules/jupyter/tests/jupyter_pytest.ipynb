{
 "cells": [
  {
   "cell_type": "markdown",
   "metadata": {},
   "source": [
    "\n",
    "# Testing Jupyter Notebook Code with pytest\n",
    "[Testing Jupyter Notebook Code with pytest - Documentation](https://docs.next.tech/creator/how-tos/testing-techniques/testing-jupyter-notebook-code-with-pytest)\n",
    "\n",
    "https://stackoverflow.com/questions/41304311/running-pytest-test-functions-inside-a-jupyter-notebook\n"
   ]
  },
  {
   "cell_type": "code",
   "execution_count": 10,
   "metadata": {},
   "outputs": [],
   "source": [
    "import pytest\n",
    "from testbook import testbook\n",
    "\n",
    "# Set up a shared notebook context to speed up tests.\n",
    "@pytest.fixture(scope='module')\n",
    "def tb():\n",
    "    with testbook('./testNotebook.ipynb', execute=True) as tb:\n",
    "        yield tb\n",
    "\n",
    "\n",
    "# Test using function call.\n",
    "def test_double_array(tb):\n",
    "    double_array = tb.ref(\"double_array\")\n",
    "    assert double_array([1, 2, 3]) == [2, 4, 6]\n",
    "\n",
    "\n",
    "# Test using code injection.\n",
    "def test_double_array_inject(tb):\n",
    "    double_array = tb.ref(\"double_array\")\n",
    "\n",
    "    tb.inject(\"\"\"\n",
    "        data = [1, 2, 3]\n",
    "    \"\"\")\n",
    "    data = tb.ref(\"data\")\n",
    "\n",
    "    assert double_array(data) == [2, 4, 6]\n",
    "    print(\"pytest passed\")"
   ]
  },
  {
   "cell_type": "code",
   "execution_count": null,
   "metadata": {},
   "outputs": [],
   "source": []
  }
 ],
 "metadata": {
  "kernelspec": {
   "display_name": "Python 3.9.13 ('modules-TCpCo-g7')",
   "language": "python",
   "name": "python3"
  },
  "language_info": {
   "codemirror_mode": {
    "name": "ipython",
    "version": 3
   },
   "file_extension": ".py",
   "mimetype": "text/x-python",
   "name": "python",
   "nbconvert_exporter": "python",
   "pygments_lexer": "ipython3",
   "version": "3.9.13"
  },
  "orig_nbformat": 4,
  "vscode": {
   "interpreter": {
    "hash": "68a9f5afa7746e8c11086b33c8e6d9963cc4a06ad2bab8287843f40e572b8203"
   }
  }
 },
 "nbformat": 4,
 "nbformat_minor": 2
}
