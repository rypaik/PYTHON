{
  "cells": [
    {
      "cell_type": "code",
      "source": [
        "# REGUALR CLASS\n",
        "\n",
        "class Temperature:\n",
        "    def __init__(self, celcius=0):\n",
        "        self._celcius = celcius\n",
        "\n",
        "    def get_fahrenheit(self):\n",
        "        return (self._celsius * 9 / 5) + 32\n",
        "\n",
        "temperature = Temperature(37)\n",
        "\n",
        "print(temperature.get_fahrenheit())"
      ],
      "outputs": [
        {
          "output_type": "error",
          "ename": "SyntaxError",
          "evalue": "Invalid or unexpected token",
          "traceback": [
            "evalmachine.<anonymous>:1",
            "# REGUALR CLASS",
            "^",
            "",
            "SyntaxError: Invalid or unexpected token",
            "    at new Script (vm.js:86:7)",
            "    at createScript (vm.js:268:10)",
            "    at Object.runInThisContext (vm.js:316:10)",
            "    at run ([eval]:1054:15)",
            "    at onRunRequest ([eval]:888:18)",
            "    at onMessage ([eval]:848:13)",
            "    at process.emit (events.js:203:13)",
            "    at emit (internal/child_process.js:876:12)",
            "    at processTicksAndRejections (internal/process/task_queues.js:77:11)"
          ]
        }
      ],
      "execution_count": 1,
      "metadata": {
        "collapsed": true,
        "jupyter": {
          "source_hidden": false,
          "outputs_hidden": false
        },
        "nteract": {
          "transient": {
            "deleting": false
          }
        },
        "execution": {
          "shell.execute_reply": "2022-04-10T01:16:48.636Z",
          "iopub.status.busy": "2022-04-10T01:16:48.652Z",
          "iopub.execute_input": "2022-04-10T01:16:48.655Z"
        }
      }
    },
    {
      "cell_type": "code",
      "source": [],
      "outputs": [],
      "execution_count": null,
      "metadata": {
        "collapsed": true,
        "jupyter": {
          "source_hidden": false,
          "outputs_hidden": false
        },
        "nteract": {
          "transient": {
            "deleting": false
          }
        }
      }
    }
  ],
  "metadata": {
    "kernel_info": {
      "name": "node_nteract"
    },
    "language_info": {
      "name": "javascript",
      "version": "12.8.1",
      "mimetype": "application/javascript",
      "file_extension": ".js"
    },
    "kernelspec": {
      "argv": [
        "/Applications/nteract.app/Contents/MacOS/nteract",
        "/Applications/nteract.app/Contents/Resources/app.asar/node_modules/ijavascript/lib/kernel.js",
        "{connection_file}",
        "--protocol=5.0",
        "--hide-undefined"
      ],
      "display_name": "Node.js (nteract)",
      "env": {
        "ELECTRON_RUN_AS_NODE": "1",
        "NODE_PATH": "/Applications/nteract.app/Contents/Resources/app.asar/node_modules"
      },
      "language": "javascript",
      "name": "node_nteract"
    },
    "nteract": {
      "version": "0.28.0"
    }
  },
  "nbformat": 4,
  "nbformat_minor": 0
}